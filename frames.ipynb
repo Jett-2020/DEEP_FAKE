{
 "cells": [
  {
   "cell_type": "code",
   "execution_count": 4,
   "id": "418061ed-499c-41e3-9c15-b911a2eba6de",
   "metadata": {},
   "outputs": [
    {
     "name": "stdout",
     "output_type": "stream",
     "text": [
      "Frames saved: 450\n"
     ]
    }
   ],
   "source": [
    "import cv2\n",
    "import os\n",
    "\n",
    "def save_frames(videol_path, output_folder):\n",
    "     \n",
    "    if not os.path.exists(output_folder):\n",
    "        os.makedirs(output_folder)\n",
    "\n",
    "    # Open the video file\n",
    "    cap = cv2.VideoCapture(\"C:/Users/ajogd/Downloads/00004.mp4\")\n",
    " \n",
    "    if not cap.isOpened():\n",
    "        print(\"Error: Unable to open video file.\")\n",
    "        return\n",
    " \n",
    "    frame_count = 0\n",
    " \n",
    "    while True:\n",
    "        \n",
    "        ret, frame = cap.read()\n",
    " \n",
    "        if not ret:\n",
    "            break\n",
    "\n",
    "       \n",
    "        frame_path = os.path.join(output_folder, f\"frame_{frame_count:04d}.jpg\")\n",
    "        cv2.imwrite(frame_path, frame)\n",
    "\n",
    "        # Increment frame count\n",
    "        frame_count += 1\n",
    "\n",
    "   \n",
    "    cap.release()\n",
    "    print(f\"Frames saved: {frame_count}\")\n",
    "\n",
    " \n",
    "video_path = \"input_video.mp4\"\n",
    "output_folder = \"output_frames\"\n",
    "save_frames(video_path, output_folder)\n"
   ]
  },
  {
   "cell_type": "code",
   "execution_count": null,
   "id": "6388607d-71a8-486b-b237-52f92803bb16",
   "metadata": {},
   "outputs": [],
   "source": []
  }
 ],
 "metadata": {
  "kernelspec": {
   "display_name": "Python 3 (ipykernel)",
   "language": "python",
   "name": "python3"
  },
  "language_info": {
   "codemirror_mode": {
    "name": "ipython",
    "version": 3
   },
   "file_extension": ".py",
   "mimetype": "text/x-python",
   "name": "python",
   "nbconvert_exporter": "python",
   "pygments_lexer": "ipython3",
   "version": "3.11.8"
  }
 },
 "nbformat": 4,
 "nbformat_minor": 5
}
