{
 "cells": [
  {
   "cell_type": "code",
   "execution_count": 1,
   "id": "46899247-dfeb-4172-a9bc-ab00f6a7f7d3",
   "metadata": {},
   "outputs": [],
   "source": [
    "import os\n",
    "import moviepy.editor "
   ]
  },
  {
   "cell_type": "code",
   "execution_count": 6,
   "id": "1fd08d7f",
   "metadata": {},
   "outputs": [
    {
     "name": "stdout",
     "output_type": "stream",
     "text": [
      "MoviePy - Writing audio in C:\\Users\\ajogd\\OneDrive\\Desktop\\Deepfake\\audio.mp3\n"
     ]
    },
    {
     "name": "stderr",
     "output_type": "stream",
     "text": [
      "                                                                      \r"
     ]
    },
    {
     "name": "stdout",
     "output_type": "stream",
     "text": [
      "MoviePy - Done.\n"
     ]
    }
   ],
   "source": [
    "cvt_video=moviepy.editor.VideoFileClip(r\"\")\n",
    "ext_audio=cvt_video.audio\n",
    "ext_audio.write_audiofile(r\"\")"
   ]
  },
  {
   "cell_type": "code",
   "execution_count": null,
   "id": "e4f5c229",
   "metadata": {},
   "outputs": [],
   "source": []
  }
 ],
 "metadata": {
  "kernelspec": {
   "display_name": "Python 3 (ipykernel)",
   "language": "python",
   "name": "python3"
  },
  "language_info": {
   "codemirror_mode": {
    "name": "ipython",
    "version": 3
   },
   "file_extension": ".py",
   "mimetype": "text/x-python",
   "name": "python",
   "nbconvert_exporter": "python",
   "pygments_lexer": "ipython3",
   "version": "3.11.8"
  }
 },
 "nbformat": 4,
 "nbformat_minor": 5
}
